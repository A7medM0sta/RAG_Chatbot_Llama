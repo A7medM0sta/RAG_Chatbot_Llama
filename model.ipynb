{
 "cells": [
  {
   "cell_type": "code",
   "execution_count": 1,
   "metadata": {},
   "outputs": [
    {
     "name": "stderr",
     "output_type": "stream",
     "text": [
      "/usr/local/python/3.10.13/lib/python3.10/site-packages/tqdm/auto.py:21: TqdmWarning: IProgress not found. Please update jupyter and ipywidgets. See https://ipywidgets.readthedocs.io/en/stable/user_install.html\n",
      "  from .autonotebook import tqdm as notebook_tqdm\n",
      "Downloading readme: 100%|██████████| 548/548 [00:00<00:00, 5.28kB/s]\n",
      "Downloading data: 100%|██████████| 6.10M/6.10M [00:01<00:00, 4.30MB/s]\n",
      "Generating train split: 100%|██████████| 93757/93757 [00:00<00:00, 1703673.65 examples/s]\n"
     ]
    }
   ],
   "source": [
    "from datasets import load_dataset\n",
    "from llama_index.core import Document\n",
    "\n",
    "hotel_review_d = load_dataset('ashraq/hotel-reviews', split = 'train')\n",
    "hotel_review_df = hotel_review_d.to_pandas()\n",
    "\n",
    "documents = [Document(text=row['review'], metadata={'hotel': row['hotel_name']}) for index, row in hotel_review_df.iterrows()]"
   ]
  },
  {
   "cell_type": "code",
   "execution_count": 2,
   "metadata": {},
   "outputs": [],
   "source": [
    "from llama_index.embeddings.huggingface import HuggingFaceEmbedding\n",
    "embed_model = HuggingFaceEmbedding(model_name=\"BAAI/bge-small-en-v1.5\")"
   ]
  },
  {
   "cell_type": "code",
   "execution_count": null,
   "metadata": {},
   "outputs": [],
   "source": [
    "#!curl -fsSL https://ollama.com/install.sh | sh\n",
    "# !ollama serve\n",
    "# !ollma pull llama3:instruct"
   ]
  },
  {
   "cell_type": "code",
   "execution_count": null,
   "metadata": {},
   "outputs": [],
   "source": [
    "from llama_index.llms.ollama import Ollama\n",
    "\n",
    "llm = Ollama(model=\"llama3:instruct\", request_timeout=60.0)\n",
    "\n",
    "response = llm.complete(\"What is the capital of France?\")\n",
    "print(response)"
   ]
  },
  {
   "cell_type": "code",
   "execution_count": null,
   "metadata": {},
   "outputs": [],
   "source": [
    "from llama_index.core import Settings\n",
    "\n",
    "Settings.llm = llm\n",
    "Settings.chunk_size = 512\n",
    "Settings.embed_model = embed_model"
   ]
  },
  {
   "cell_type": "code",
   "execution_count": null,
   "metadata": {},
   "outputs": [],
   "source": [
    "from llama_index.core import VectorStoreIndex\n",
    "index = VectorStoreIndex.from_documents(\n",
    "    documents\n",
    ")"
   ]
  },
  {
   "cell_type": "code",
   "execution_count": null,
   "metadata": {},
   "outputs": [],
   "source": [
    "index.storage_context.persist(persist_dir=\"hotel\")"
   ]
  },
  {
   "cell_type": "code",
   "execution_count": null,
   "metadata": {},
   "outputs": [],
   "source": [
    "from llama_index.core import StorageContext, load_index_from_storage\n",
    "\n",
    "# rebuild storage context\n",
    "storage_context = StorageContext.from_defaults(persist_dir=\"hotel\")\n",
    "\n",
    "# load index\n",
    "vector_index = load_index_from_storage(storage_context)"
   ]
  },
  {
   "cell_type": "code",
   "execution_count": null,
   "metadata": {},
   "outputs": [],
   "source": [
    "query_engine = vector_index.as_query_engine(similarity_top_k=10)\n"
   ]
  },
  {
   "cell_type": "code",
   "execution_count": null,
   "metadata": {},
   "outputs": [],
   "source": [
    "import pandas as pd\n",
    "import geopy\n",
    "from geopy.geocoders import Nominatim\n",
    "import random\n",
    "\n",
    "# assume your original dataframe is called df\n",
    "\n",
    "# extract unique hotel names into a new dataframe\n",
    "hotel_names_df = pd.DataFrame(hotel_review_df['hotel_name'].unique(), columns=['hotel_name'])\n",
    "\n",
    "# create a geolocator object\n",
    "geolocator = Nominatim(user_agent=\"my_app\")\n",
    "\n",
    "# create two new columns for longitude and latitude\n",
    "hotel_names_df['longitude'] = None\n",
    "hotel_names_df['latitude'] = None\n",
    "\n",
    "# define a function to generate a random location in London\n",
    "def random_london_location():\n",
    "    # London's bounding box: 51.2868° N, 0.0053° W, 51.6913° N, 0.1743° E\n",
    "    lat = random.uniform(51.2868, 51.6913)\n",
    "    lon = random.uniform(-0.1743, 0.0053)\n",
    "    return lat, lon\n",
    "\n",
    "# loop through each hotel name and get its lat/long info\n",
    "for index, row in hotel_names_df.iterrows():\n",
    "    hotel_name = row['hotel_name'] + ', London'\n",
    "    location = geolocator.geocode(hotel_name)\n",
    "    if location:\n",
    "        hotel_names_df.at[index, 'longitude'] = location.longitude\n",
    "        hotel_names_df.at[index, 'latitude'] = location.latitude\n",
    "    else:\n",
    "        lat, lon = random_london_location()\n",
    "        hotel_names_df.at[index, 'longitude'] = lon\n",
    "        hotel_names_df.at[index, 'latitude'] = lat\n",
    "        print(f\"Could not find location for {hotel_name}, using random location instead\")\n",
    "\n",
    "# print the resulting dataframe\n",
    "print(hotel_names_df)"
   ]
  },
  {
   "cell_type": "code",
   "execution_count": null,
   "metadata": {},
   "outputs": [],
   "source": [
    "import gradio as gr\n",
    "import folium\n",
    "\n",
    "# assume hotel_names_df is the dataframe with hotel names and lat/long info\n",
    "\n",
    "def query(text):\n",
    "    z = query_engine.query(text)\n",
    "    return z\n",
    "\n",
    "def generate_map(hotel_names):\n",
    "    # generate map using Folium\n",
    "    m = folium.Map(location=[51.5074, -0.1278], zoom_start=12)\n",
    "    for hotel_name in hotel_names:\n",
    "        lat = hotel_names_df[hotel_names_df['hotel_name'] == hotel_name]['latitude'].values[0]\n",
    "        lon = hotel_names_df[hotel_names_df['hotel_name'] == hotel_name]['longitude'].values[0]\n",
    "        folium.Marker([lat, lon], popup=hotel_name).add_to(m)\n",
    "    return m._repr_html_()\n",
    "\n",
    "def interface(text):\n",
    "    z = query(text)\n",
    "    response = z.response\n",
    "    hotel_names = list(set([z.source_nodes[i].metadata['hotel'] for i in range(len(z.source_nodes))]))\n",
    "    map_html = generate_map(hotel_names)\n",
    "    return response, map_html"
   ]
  },
  {
   "cell_type": "code",
   "execution_count": null,
   "metadata": {},
   "outputs": [],
   "source": [
    "import gradio as gr\n",
    "\n",
    "with gr.Blocks(theme=gr.themes.Glass().set(block_title_text_color= \"black\", body_background_fill=\"black\", input_background_fill= \"black\", body_text_color=\"white\")) as demo:\n",
    "    \n",
    "    gr.Markdown(\"<style>h1 {text-align: center;display: block;}</style><h1>Hotel Reviews Chatbot</h1>\")\n",
    "    with gr.Row():\n",
    "        output_text = gr.Textbox(lines=20)\n",
    "        map_area = gr.HTML(value=folium.Map(location=[51.5074, -0.1278], zoom_start=12)._repr_html_())\n",
    "        \n",
    "    with gr.Row():\n",
    "        input_text = gr.Textbox(label='Enter your query here')\n",
    "        \n",
    "    input_text.submit(fn=interface, inputs=input_text, outputs=[output_text, map_area])\n",
    "                      \n",
    "demo.launch(share=True)"
   ]
  },
  {
   "cell_type": "code",
   "execution_count": null,
   "metadata": {},
   "outputs": [],
   "source": []
  },
  {
   "cell_type": "code",
   "execution_count": null,
   "metadata": {},
   "outputs": [],
   "source": []
  },
  {
   "cell_type": "code",
   "execution_count": null,
   "metadata": {},
   "outputs": [],
   "source": []
  },
  {
   "cell_type": "code",
   "execution_count": null,
   "metadata": {},
   "outputs": [],
   "source": []
  },
  {
   "cell_type": "code",
   "execution_count": null,
   "metadata": {},
   "outputs": [],
   "source": []
  }
 ],
 "metadata": {
  "kernelspec": {
   "display_name": "Python 3 (ipykernel)",
   "language": "python",
   "name": "python3"
  },
  "language_info": {
   "codemirror_mode": {
    "name": "ipython",
    "version": 3
   },
   "file_extension": ".py",
   "mimetype": "text/x-python",
   "name": "python",
   "nbconvert_exporter": "python",
   "pygments_lexer": "ipython3",
   "version": "3.10.13"
  }
 },
 "nbformat": 4,
 "nbformat_minor": 2
}
